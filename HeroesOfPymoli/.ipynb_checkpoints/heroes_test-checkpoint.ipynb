{
 "cells": [
  {
   "cell_type": "code",
   "execution_count": null,
   "metadata": {},
   "outputs": [],
   "source": [
    "#import Pandas; import and read data file\n",
    "import pandas as pd\n",
    "\n",
    "file_to_load = \"Resources/HeroesOfPymoli.csv\"\n",
    "\n",
    "purchase_data_df = pd.read_csv(file_to_load)\n",
    "\n",
    "purchase_data_df.head()"
   ]
  },
  {
   "cell_type": "code",
   "execution_count": null,
   "metadata": {},
   "outputs": [],
   "source": [
    "#statistical overview of the purchase data\n",
    "purchase_data_df.describe()"
   ]
  },
  {
   "cell_type": "code",
   "execution_count": null,
   "metadata": {},
   "outputs": [],
   "source": [
    "#PLAYER COUNT\n",
    "\n",
    "#Display the total number of players\n",
    "    #status: done"
   ]
  },
  {
   "cell_type": "code",
   "execution_count": null,
   "metadata": {},
   "outputs": [],
   "source": [
    "#PLAYER COUNT\n",
    "#Diplay the total number of players\n",
    "total_players = purchase_data_df[\"SN\"].nunique()\n",
    "total_players"
   ]
  },
  {
   "cell_type": "code",
   "execution_count": null,
   "metadata": {},
   "outputs": [],
   "source": [
    "total_players_df = pd.DataFrame({\n",
    "    \"Total Players\": [total_players]\n",
    "})\n",
    "total_players_df"
   ]
  },
  {
   "cell_type": "code",
   "execution_count": null,
   "metadata": {},
   "outputs": [],
   "source": [
    "#PURCHASING ANALYSIS (TOTAL)\n",
    "#Run basic calculations to obtain number of unique items, average price,\n",
    "#total number of purchases and total revenue\n",
    "\n",
    "unique_items = purchase_data_df[\"Item ID\"].nunique()\n",
    "unique_items\n",
    "\n",
    "average_price = purchase_data_df[\"Price\"].mean()\n",
    "average_price_round = round(average_price,2)\n",
    "average_price_round\n",
    "\n",
    "total_num_purchases = purchase_data_df[\"Purchase ID\"].count()\n",
    "total_num_purchases\n",
    "\n",
    "total_revenue = purchase_data_df[\"Price\"].sum()\n",
    "total_revenue\n",
    "\n"
   ]
  },
  {
   "cell_type": "code",
   "execution_count": null,
   "metadata": {},
   "outputs": [],
   "source": [
    "#Create a summary data frame to hold the results\n",
    "summary_purchase_df = pd.DataFrame({\n",
    "    \"Number of Unique Items\": [unique_items],\n",
    "    \"Average Price\": [average_price_round],\n",
    "    \"Total Number of Purchases\": [total_num_purchases],\n",
    "    \"Total Revenue\": [total_revenue]    \n",
    "    })\n",
    "\n",
    "#format $ into average price and total revenue\n",
    "summary_purchase_df[\"Average Price\"] = summary_purchase_df[\"Average Price\"].map(\"${:.2f}\".format)\n",
    "summary_purchase_df[\"Total Revenue\"] = summary_purchase_df[\"Total Revenue\"].map(\"${:.2f}\".format)\n",
    "\n",
    "#display summary data\n",
    "summary_purchase_df"
   ]
  },
  {
   "cell_type": "code",
   "execution_count": null,
   "metadata": {},
   "outputs": [],
   "source": [
    "#GENDER DEMOGRAPHICS\n",
    "#Percentage and Count of Male Players\n",
    "    #status: done\n",
    "\n",
    "#Percentage and Count of Female Players\n",
    "    #status: done\n",
    "\n",
    "#Percentage and Count of Other / Non-Disclosed\n",
    "    #status: done\n",
    "    \n",
    "#Note: Format % symbol in Percentage of Players column"
   ]
  },
  {
   "cell_type": "code",
   "execution_count": null,
   "metadata": {
    "scrolled": true
   },
   "outputs": [],
   "source": [
    "#GENDER DEMOGRAPHICS\n",
    "#Percentage and count of Male Players\n",
    "#borrowed parts of code from https://stackoverflow.com/questions/45759966/counting-unique-values-in-a-column-in-pandas-dataframe-like-in-qlik/45760042\n",
    "#players_male_count_df = purchase_data_df.loc[purchase_data_df[\"Gender\"]==\"Male\",\"SN\"].agg(\"nunique\")\n",
    "#players_male_count_df\n",
    "players_male_perc = round(players_male_count_df/total_players*100,2)\n",
    "players_male_perc"
   ]
  },
  {
   "cell_type": "code",
   "execution_count": null,
   "metadata": {},
   "outputs": [],
   "source": [
    "#Percentage and count of Female Players\n",
    "#borrowed parts of code from https://stackoverflow.com/questions/45759966/counting-unique-values-in-a-column-in-pandas-dataframe-like-in-qlik/45760042\n",
    "#players_female_count_df = purchase_data_df.loc[purchase_data_df[\"Gender\"]==\"Female\",\"SN\"].agg(\"nunique\")\n",
    "#players_female_count_df\n",
    "players_female_perc = round(players_female_count_df/total_players*100,2)\n",
    "players_female_perc"
   ]
  },
  {
   "cell_type": "code",
   "execution_count": null,
   "metadata": {},
   "outputs": [],
   "source": [
    "#Percentage and count of Other/Non-Disclosed Players\n",
    "#borrowed parts of code from https://stackoverflow.com/questions/45759966/counting-unique-values-in-a-column-in-pandas-dataframe-like-in-qlik/45760042\n",
    "#players_other_NonDisc_count_df = purchase_data_df.loc[purchase_data_df[\"Gender\"]==\"Other / Non-Disclosed\",\"SN\"].agg(\"nunique\")\n",
    "#players_other_NonDisc_count_df\n",
    "players_other_NonDisc_perc = round(players_other_NonDisc_count_df/total_players*100,2)\n",
    "players_other_NonDisc_perc"
   ]
  },
  {
   "cell_type": "code",
   "execution_count": null,
   "metadata": {},
   "outputs": [],
   "source": [
    "#summary data frame of gender demographics\n",
    "gender_demographics_df = pd.DataFrame({\n",
    "    \"\": [\"Male\", \"Female\", \"Other / Non-Disclosed\"],\n",
    "    \"Total Count\": [players_male_count_df, players_female_count_df, players_other_NonDisc_count_df],\n",
    "    \"Percentage of Players\": [players_male_perc, players_female_perc, players_other_NonDisc_perc]\n",
    "})\n",
    "gender_demographics_df"
   ]
  },
  {
   "cell_type": "code",
   "execution_count": null,
   "metadata": {},
   "outputs": [],
   "source": [
    "#BEFORE NEXT STEP - ADD PERCENT SYMBOL TO PERCENTAGE OF PLAYERS"
   ]
  }
 ],
 "metadata": {
  "kernelspec": {
   "display_name": "Python 3",
   "language": "python",
   "name": "python3"
  },
  "language_info": {
   "codemirror_mode": {
    "name": "ipython",
    "version": 3
   },
   "file_extension": ".py",
   "mimetype": "text/x-python",
   "name": "python",
   "nbconvert_exporter": "python",
   "pygments_lexer": "ipython3",
   "version": "3.8.5"
  }
 },
 "nbformat": 4,
 "nbformat_minor": 4
}
